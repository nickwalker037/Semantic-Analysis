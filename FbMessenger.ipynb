{
 "cells": [
  {
   "cell_type": "code",
   "execution_count": null,
   "metadata": {},
   "outputs": [],
   "source": [
    "import random\n",
    "from flask import Flask, request\n",
    "from pymessenger.bot import Bot"
   ]
  },
  {
   "cell_type": "code",
   "execution_count": null,
   "metadata": {},
   "outputs": [],
   "source": []
  },
  {
   "cell_type": "code",
   "execution_count": null,
   "metadata": {},
   "outputs": [],
   "source": [
    "app = Flask(__name__)\n",
    "ACCESS_TOKEN = 'ACCESS_TOKEN'\n",
    "VERIFY_TOKEN = 'VERIFY_TOKEN'\n",
    "bot = Bot(ACCESS_TOKEN)\n",
    "\n",
    "@app.route('/', methods=['GET', 'POST'])\n",
    "def receive_message():\n",
    "    return \"Hello World!\"\n",
    "\n",
    "def receive_message()\n",
    "    if request.method = 'GET':\n",
    "        # confirms token - meaning all requests come from fb\n",
    "        token_sent = request.args.get(\"hub.verify_token\")\n",
    "        return verify_fb_token(token_sent)\n",
    "\n",
    "        else:\n",
    "            output = request.get_json()\n",
    "            for event in output['entry']:\n",
    "                messaging = event['messaging']\n",
    "                for message in messaging:\n",
    "                    if message.get('message'):\n",
    "                        # Facebook Messenger user ID so we know where to send response\n",
    "                        recipient_id = message['sender']['id']\n",
    "\n",
    "                        if message['message'].get('text'):\n",
    "                            response_sent_text = get_message()\n",
    "                            send_message(recipient_id, response_sent_text)\n",
    "\n",
    "                        if message['message'].get('attachments'):\n",
    "                            response_sent_nontext = get_message()\n",
    "                            send_message(recipient_id, response_sent_nontext)\n",
    "        return \"Message Processed\"\n",
    "\n",
    "def verify_fb_token(token_sent):\n",
    "    if token_sent == VERIFY_TOKEN:\n",
    "            return request.args.get(\"hub.challenge\")\n",
    "    return 'Invalid verification token'\n",
    "\n",
    "\n",
    "def get_message():\n",
    "    sample_responses = [\"You are stunning!\", \"We're proud of you.\", \"Keep on being you!\", \"We're greatful to know you :)\"]\n",
    "    return random.choice(sample_responses)\n",
    "\n",
    "\n",
    "def send_message(recipient_id, response):\n",
    "    # sends user a response message provided via input response parameter\n",
    "    bot.send_text_message(recipient_id, response)\n",
    "    return \"success\"\n",
    "\n",
    "\n",
    "if __name__ == '__main__':\n",
    "    app.run()"
   ]
  },
  {
   "cell_type": "code",
   "execution_count": null,
   "metadata": {},
   "outputs": [],
   "source": []
  },
  {
   "cell_type": "code",
   "execution_count": null,
   "metadata": {},
   "outputs": [],
   "source": []
  },
  {
   "cell_type": "code",
   "execution_count": null,
   "metadata": {},
   "outputs": [],
   "source": []
  },
  {
   "cell_type": "code",
   "execution_count": null,
   "metadata": {},
   "outputs": [],
   "source": []
  },
  {
   "cell_type": "code",
   "execution_count": null,
   "metadata": {},
   "outputs": [],
   "source": []
  },
  {
   "cell_type": "code",
   "execution_count": null,
   "metadata": {},
   "outputs": [],
   "source": []
  },
  {
   "cell_type": "code",
   "execution_count": null,
   "metadata": {},
   "outputs": [],
   "source": []
  }
 ],
 "metadata": {
  "kernelspec": {
   "display_name": "Python 3",
   "language": "python",
   "name": "python3"
  },
  "language_info": {
   "codemirror_mode": {
    "name": "ipython",
    "version": 3
   },
   "file_extension": ".py",
   "mimetype": "text/x-python",
   "name": "python",
   "nbconvert_exporter": "python",
   "pygments_lexer": "ipython3",
   "version": "3.7.2"
  }
 },
 "nbformat": 4,
 "nbformat_minor": 2
}
