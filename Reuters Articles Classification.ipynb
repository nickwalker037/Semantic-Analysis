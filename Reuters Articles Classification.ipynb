{
 "cells": [
  {
   "cell_type": "markdown",
   "metadata": {},
   "source": [
    "<h3> Reuters Articles Classification using Topic Models in Gensim </h3>"
   ]
  },
  {
   "cell_type": "code",
   "execution_count": null,
   "metadata": {
    "collapsed": true
   },
   "outputs": [],
   "source": [
    "from nltk.corpus import reuters\n",
    "import gensim"
   ]
  },
  {
   "cell_type": "code",
   "execution_count": 103,
   "metadata": {},
   "outputs": [],
   "source": [
    "#for fileid in reuters.fileids():\n",
    "    #print(reuters.raw(fileid))"
   ]
  },
  {
   "cell_type": "code",
   "execution_count": 32,
   "metadata": {},
   "outputs": [],
   "source": [
    "docs = []"
   ]
  },
  {
   "cell_type": "code",
   "execution_count": 33,
   "metadata": {},
   "outputs": [],
   "source": [
    "for fileid in reuters.fileids():\n",
    "    docs.append(reuters.raw(fileid))"
   ]
  },
  {
   "cell_type": "code",
   "execution_count": 67,
   "metadata": {},
   "outputs": [],
   "source": [
    "from nltk.corpus import stopwords\n",
    "from nltk.stem.wordnet import WordNetLemmatizer\n",
    "import string"
   ]
  },
  {
   "cell_type": "code",
   "execution_count": 115,
   "metadata": {},
   "outputs": [],
   "source": [
    "docs = [w.replace('U.S.', 'USA')  for w in docs]\n",
    "docs = [w.replace('mln', 'million')  for w in docs]\n",
    "docs = [w.replace('dlrs', '')  for w in docs]\n",
    "docs = [w.replace('pct', 'percent')  for w in docs]\n",
    "docs = [w.replace('said', '')  for w in docs]\n",
    "docs = [w.replace('shr', 'share')  for w in docs]\n",
    "docs = [w.replace('net', '')  for w in docs]\n",
    "docs = [w.replace('ct', 'count')  for w in docs]\n",
    "docs = [w.replace('wk', 'week')  for w in docs]\n",
    "docs = [w.replace('v', '')  for w in docs]\n",
    "docs = [w.replace('qtr', 'quarter')  for w in docs]"
   ]
  },
  {
   "cell_type": "code",
   "execution_count": 116,
   "metadata": {},
   "outputs": [],
   "source": [
    "stop = set(stopwords.words('english'))\n",
    "exclude = set(string.punctuation)\n",
    "lemma = WordNetLemmatizer()\n",
    "    \n",
    "def clean(doc):\n",
    "    stop_free = \" \".join([i for i in doc.lower().split() if i not in stop])\n",
    "    punc_free = ''. join(ch for ch in stop_free if ch not in exclude)\n",
    "    stop_free2 = \" \".join([i for i in punc_free.lower().split() if i not in stop])\n",
    "    normalized = \" \".join(lemma.lemmatize(word) for word in stop_free2.split())\n",
    "    return normalized\n",
    "\n",
    "clean_docs = [clean(doc).split() for doc in docs]"
   ]
  },
  {
   "cell_type": "code",
   "execution_count": 117,
   "metadata": {},
   "outputs": [],
   "source": [
    "from gensim.corpora import Dictionary"
   ]
  },
  {
   "cell_type": "code",
   "execution_count": 118,
   "metadata": {},
   "outputs": [],
   "source": [
    "dictionary = Dictionary(clean_docs)\n",
    "corpus = [dictionary.doc2bow(text) for text in clean_docs]"
   ]
  },
  {
   "cell_type": "code",
   "execution_count": 119,
   "metadata": {
    "collapsed": true
   },
   "outputs": [],
   "source": [
    "from gensim.models import CoherenceModel, LdaModel, LsiModel, HdpModel\n",
    "from gensim.models.wrappers import LdaMallet"
   ]
  },
  {
   "cell_type": "markdown",
   "metadata": {},
   "source": [
    "<h3> LSI Model: </h3>"
   ]
  },
  {
   "cell_type": "code",
   "execution_count": 120,
   "metadata": {},
   "outputs": [],
   "source": [
    "lsimodel = LsiModel(corpus=corpus, num_topics=10, id2word=dictionary)"
   ]
  },
  {
   "cell_type": "code",
   "execution_count": 121,
   "metadata": {},
   "outputs": [
    {
     "data": {
      "text/plain": [
       "[(0,\n",
       "  '0.278*\"year\" + 0.240*\"usa\" + 0.229*\"billion\" + 0.206*\"would\" + 0.195*\"bank\" + 0.168*\"market\" + 0.166*\"price\" + 0.152*\"company\" + 0.149*\"rate\" + 0.146*\"trade\"'),\n",
       " (1,\n",
       "  '0.908*\"nil\" + 0.174*\"pre\" + 0.169*\"4287\" + 0.169*\"wk\" + 0.103*\"198687\" + 0.089*\"198788\" + 0.085*\"total\" + 0.060*\"nameda\" + 0.060*\"eoac\" + 0.060*\"unnamedb\"'),\n",
       " (2,\n",
       "  '-0.490*\"loss\" + -0.268*\"net\" + -0.258*\"profit\" + -0.240*\"share\" + 0.206*\"usa\" + -0.188*\"shr\" + -0.178*\"year\" + -0.159*\"company\" + 0.151*\"trade\" + -0.147*\"re\"'),\n",
       " (3,\n",
       "  '-0.469*\"billion\" + -0.339*\"bank\" + 0.294*\"share\" + 0.243*\"company\" + -0.213*\"rate\" + 0.208*\"price\" + 0.181*\"stock\" + 0.169*\"oil\" + 0.137*\"offer\" + 0.128*\"would\"'),\n",
       " (4,\n",
       "  '-0.431*\"bank\" + -0.325*\"share\" + -0.268*\"rate\" + 0.207*\"trade\" + 0.198*\"year\" + 0.198*\"tonne\" + 0.197*\"usa\" + -0.192*\"company\" + 0.169*\"oil\" + 0.147*\"export\"')]"
      ]
     },
     "execution_count": 121,
     "metadata": {},
     "output_type": "execute_result"
    }
   ],
   "source": [
    "lsimodel.show_topics(num_topics=5)  # Showing only the top 5 topics"
   ]
  },
  {
   "cell_type": "markdown",
   "metadata": {},
   "source": [
    "<h3> HDP Model: </h3>"
   ]
  },
  {
   "cell_type": "code",
   "execution_count": 122,
   "metadata": {
    "collapsed": true
   },
   "outputs": [],
   "source": [
    "hdpmodel = HdpModel(corpus=corpus, id2word=dictionary)"
   ]
  },
  {
   "cell_type": "code",
   "execution_count": 123,
   "metadata": {},
   "outputs": [
    {
     "data": {
      "text/plain": [
       "[(0,\n",
       "  '0.009*year + 0.007*usa + 0.006*company + 0.006*would + 0.006*bank + 0.006*billion + 0.006*share + 0.005*price + 0.005*market + 0.004*oil + 0.004*hae + 0.004*last + 0.004*1986 + 0.004*trade + 0.004*rate + 0.004*inc + 0.003*stock + 0.003*loss + 0.003*new + 0.003*also'),\n",
       " (1,\n",
       "  '0.008*billion + 0.007*year + 0.007*share + 0.007*company + 0.006*usa + 0.005*would + 0.005*bank + 0.004*inc + 0.004*market + 0.004*1986 + 0.004*oil + 0.004*corp + 0.004*trade + 0.004*price + 0.004*stock + 0.004*rate + 0.003*last + 0.003*hae + 0.003*loss + 0.003*sale'),\n",
       " (2,\n",
       "  '0.007*share + 0.006*company + 0.006*year + 0.006*usa + 0.006*loss + 0.006*net + 0.006*inc + 0.005*billion + 0.005*stock + 0.004*corp + 0.004*shr + 0.004*sale + 0.004*tonne + 0.004*would + 0.004*1986 + 0.003*price + 0.003*market + 0.003*bank + 0.003*profit + 0.003*april'),\n",
       " (3,\n",
       "  '0.008*share + 0.007*year + 0.007*billion + 0.006*net + 0.006*inc + 0.006*company + 0.006*loss + 0.005*bank + 0.005*corp + 0.005*1986 + 0.005*april + 0.005*shr + 0.004*profit + 0.004*march + 0.004*stock + 0.004*sale + 0.004*rate + 0.004*record + 0.004*oil + 0.003*quarter'),\n",
       " (4,\n",
       "  '0.025*loss + 0.023*net + 0.017*shr + 0.013*profit + 0.013*re + 0.011*year + 0.010*qtr + 0.008*inc + 0.008*oper + 0.007*note + 0.007*share + 0.006*corp + 0.006*sale + 0.006*ag + 0.005*billion + 0.005*4th + 0.005*1986 + 0.005*nine + 0.005*mths + 0.005*quarter')]"
      ]
     },
     "execution_count": 123,
     "metadata": {},
     "output_type": "execute_result"
    }
   ],
   "source": [
    "hdpmodel.show_topics(num_topics=5)"
   ]
  },
  {
   "cell_type": "markdown",
   "metadata": {},
   "source": [
    "<h3> LDA Model: </h3>"
   ]
  },
  {
   "cell_type": "code",
   "execution_count": 124,
   "metadata": {
    "collapsed": true
   },
   "outputs": [],
   "source": [
    "ldamodel = LdaModel(corpus=corpus, num_topics=10, id2word=dictionary)"
   ]
  },
  {
   "cell_type": "code",
   "execution_count": 125,
   "metadata": {},
   "outputs": [
    {
     "data": {
      "text/plain": [
       "[(8,\n",
       "  '0.011*\"ec\" + 0.010*\"company\" + 0.007*\"would\" + 0.007*\"commission\" + 0.006*\"share\" + 0.005*\"group\" + 0.005*\"offer\" + 0.005*\"sugar\" + 0.005*\"usa\" + 0.004*\"european\"'),\n",
       " (3,\n",
       "  '0.016*\"gold\" + 0.011*\"company\" + 0.010*\"ltd\" + 0.009*\"loss\" + 0.009*\"mine\" + 0.007*\"ounce\" + 0.007*\"ton\" + 0.007*\"inc\" + 0.006*\"year\" + 0.006*\"resource\"'),\n",
       " (9,\n",
       "  '0.016*\"billion\" + 0.016*\"oil\" + 0.013*\"year\" + 0.013*\"price\" + 0.007*\"would\" + 0.007*\"1986\" + 0.006*\"last\" + 0.006*\"export\" + 0.006*\"market\" + 0.005*\"trade\"'),\n",
       " (5,\n",
       "  '0.050*\"loss\" + 0.042*\"net\" + 0.031*\"profit\" + 0.029*\"shr\" + 0.022*\"year\" + 0.020*\"re\" + 0.017*\"qtr\" + 0.013*\"note\" + 0.013*\"sale\" + 0.012*\"1986\"'),\n",
       " (0,\n",
       "  '0.045*\"billion\" + 0.013*\"year\" + 0.010*\"1986\" + 0.010*\"sale\" + 0.008*\"1985\" + 0.007*\"usa\" + 0.005*\"rose\" + 0.005*\"week\" + 0.005*\"gas\" + 0.005*\"reseres\"')]"
      ]
     },
     "execution_count": 125,
     "metadata": {},
     "output_type": "execute_result"
    }
   ],
   "source": [
    "ldamodel.print_topics(num_topics=5, num_words=10)"
   ]
  },
  {
   "cell_type": "code",
   "execution_count": null,
   "metadata": {
    "collapsed": true
   },
   "outputs": [],
   "source": []
  },
  {
   "cell_type": "code",
   "execution_count": null,
   "metadata": {
    "collapsed": true
   },
   "outputs": [],
   "source": []
  }
 ],
 "metadata": {
  "kernelspec": {
   "display_name": "Python 3",
   "language": "python",
   "name": "python3"
  },
  "language_info": {
   "codemirror_mode": {
    "name": "ipython",
    "version": 3
   },
   "file_extension": ".py",
   "mimetype": "text/x-python",
   "name": "python",
   "nbconvert_exporter": "python",
   "pygments_lexer": "ipython3",
   "version": "3.6.3"
  }
 },
 "nbformat": 4,
 "nbformat_minor": 2
}
